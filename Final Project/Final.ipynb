{
 "metadata": {
  "name": "",
  "signature": "sha256:644214d64a03f5d75879a67fa0422af81bcf4f11dd38cfce108441f17811d3ae"
 },
 "nbformat": 3,
 "nbformat_minor": 0,
 "worksheets": [
  {
   "cells": [
    {
     "cell_type": "code",
     "collapsed": false,
     "input": [
      "import pandas as pd\n",
      "import pickle\n",
      "\n",
      "import visuals\n",
      "import regression\n",
      "import predictwin\n",
      "\n",
      "# 1\n",
      "# Import the data and save it as a pickle\n",
      "cfb = pd.read_csv('data/cfb2013stats.csv')\n",
      "with open('cfb_pickle.pickle', 'wb') as handle:\n",
      "  pickle.dump(cfb, handle)"
     ],
     "language": "python",
     "metadata": {},
     "outputs": []
    },
    {
     "cell_type": "code",
     "collapsed": false,
     "input": [
      "# 2\n",
      "# Provide at least one reshaping technique implementation\n",
      "\n",
      "# For this, we take the scoring offense of each team for each game\n",
      "# and break it into bins: low, medium, and high.\n",
      "cfb.ScoreOffCat = pd.cut(cfb.ScoreOff, [0, 14, 35, 222], labels=[\"low\", \"medium\", \"high\"])\n",
      "cfb.ScoreDefCat = pd.cut(cfb.ScoreDef, [0, 14, 35, 222], labels=[\"low\", \"medium\", \"high\"])"
     ],
     "language": "python",
     "metadata": {},
     "outputs": []
    },
    {
     "cell_type": "code",
     "collapsed": false,
     "input": [
      "# 3\n",
      "# Provide at least one treatment for missing data\n",
      "\n",
      "# Our only missing data is the Vegas odds line for some of the games\n",
      "# which were not bet on. Setting this equal to the average line would make\n",
      "# no sense\n",
      "cfb = cfb.applymap(lambda x: None if isinstance(x, basestring) and x.isspace() else x)"
     ],
     "language": "python",
     "metadata": {},
     "outputs": []
    },
    {
     "cell_type": "code",
     "collapsed": false,
     "input": [
      "# 4\n",
      "# Provide and comment on numerical summaries for at least three variables (at\n",
      "# least one categorical and at least one numeric). You can use Python code or R\n",
      "# code with pyper.\n",
      "\n",
      "cfb.Date.describe() \t\t# Date of the game\n",
      "cfb.TeamName.describe() \t# This team's name\n",
      "cfb.ScoreOff.describe() \t# This team's total score\n",
      "cfb.RushAttOff.describe() \t# This team's rush attempts\n",
      "cfb.RushYdsOff.describe() \t# This team's rush yards\n",
      "cfb.PassAttOff.describe() \t# This team's passing attempts\n",
      "cfb.PassCompOff.describe()     # This team's passing completions\n",
      "cfb.PassYdsOff.describe() \t# This team's total passing yards\n",
      "cfb.PassIntOff.describe() \t# How many interceptions this team has thrown\n",
      "cfb.FumblesOff.describe() \t# How many fumbles this team has had\n",
      "\n",
      "cfb.Opponent.describe() \t# Opponent's name\n",
      "cfb.ScoreDef.describe() \t# Opponent's total score\n",
      "cfb.RushAttDef.describe() \t# Opponent's rush attempts\n",
      "cfb.RushYdsDef.describe() \t# Opponent's rush yards\n",
      "cfb.PassAttDef.describe() \t# Opponent's passing attempts\n",
      "cfb.PassCompDef.describe()     # Opponent's passing completions\n",
      "cfb.PassYdsDef.describe() \t# Opponent's total passing yards\n",
      "cfb.PassIntDef.describe() \t# How many interceptions the opponent has thrown\n",
      "cfb.FumblesDef.describe() \t# How many fumbles the opponent has had\n",
      "\n",
      "cfb.Site.describe() \t\t# Whether the game was home, away, or at a neutral site\n",
      "cfb.Line.describe() \t\t# Vegas betting line; Human prediction of score\n",
      "\n",
      "cfb.ScoreOffCat.describe()     # This teams score broken into categories\n",
      "cfb.ScoreDefCat.describe()     # Opposing team's score broken into categories"
     ],
     "language": "python",
     "metadata": {},
     "outputs": []
    },
    {
     "cell_type": "code",
     "collapsed": false,
     "input": [
      "# 5\n",
      "# Visuals\n",
      "\n",
      "visuals.run()"
     ],
     "language": "python",
     "metadata": {},
     "outputs": []
    },
    {
     "cell_type": "code",
     "collapsed": false,
     "input": [
      "# 6\n",
      "# Machine learning\n",
      "\n",
      "regression.run()\n",
      "predictwin.run()"
     ],
     "language": "python",
     "metadata": {},
     "outputs": []
    }
   ],
   "metadata": {}
  }
 ]
}